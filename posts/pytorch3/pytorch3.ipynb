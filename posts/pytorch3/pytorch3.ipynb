{
  "cells": [
    {
      "cell_type": "markdown",
      "metadata": {},
      "source": [
        "---\n",
        "title: \"重新認識pytorch(3)\"\n",
        "subtitle: \"LSTM簡介與實作\"\n",
        "format: html\n",
        "author: \"紙魚\"\n",
        "date: \"2025-08-28\"\n",
        "categories: [note,python,pytorch]\n",
        "# format:\n",
        "#   html:\n",
        "#     code-fold: true\n",
        "jupyter: new_env\n",
        "image: \"image.png\"\n",
        "---"
      ]
    },
    {
      "cell_type": "markdown",
      "metadata": {},
      "source": [
        " LSTM（Long Short-Term Memory）模型是 RNN 的延伸，主要目的在於改善 RNN 梯度爆炸以及長期依賴的問題。\n",
        "\n",
        "具體來說，一般結構簡單的 RNN 使用的激勵函數為 Sigomid、tah，在沒有記憶性質的 NN 裡最多也只能疊6層 layers，否則在反向傳遞誤差時，**誤差會隨著層數增加而減少，無法有效更新權重**，有記憶性質的 RNN 在反向傳遞的誤差還會受到序列(例如從 $t+1$ 到 $t$)的影響，因此 **一般 RNN 無法學習太長的 series data**。\n",
        "\n",
        "要改善 RNN 的問題，一般會朝兩個方向改進：使用更複雜的模型結構，或是與其他模型結合組成混合式深度學習。\n",
        "\n",
        "LSTM 就是採前者的作法，使得他可以學習長期 series data，代價是，他的結構複雜，執行速度也拖慢很多。~~一個 ep~~\n",
        "\n",
        " \n",
        "> 主要內容引用自 「李金洪. 2022. 全格局使用 PyTorch - 深度學習和圖神經網路 - 基礎篇. 深智數位」第 7.5 節。\n",
        "\n",
        "# LSTM 的模型結構\n",
        "\n",
        "懶得畫，直接找別人ㄉ\n",
        "\n",
        "![ ](https://raw.githubusercontent.com/aaubs/ds-master/main/data/Images/LSTM_cellstate.png)\n",
        "\n",
        "[來源](https://colab.research.google.com/github/aaubs/ds-master/blob/main/notebooks/M3_LSTM_Tutorial_v3.ipynb#scrollTo=8RuUMQ3WezoZ)\n"
      ]
    },
    {
      "cell_type": "markdown",
      "metadata": {},
      "source": [
        "與一般 RNN 相比， LSTM 主要增加了 3 個東西\n",
        "\n",
        "1. 遺忘門\n",
        "2. 輸入門\n",
        "3. 輸出門\n",
        "\n",
        "## 遺忘門\n",
        "\n",
        "遺忘門的作用是決定甚麼時候需要把以前的狀態忘記。LSTM 的遺忘門主要由三部分組成：\n",
        "\n",
        "- 輸入（$x_t$）：當前時刻的輸入。\n",
        "\n",
        "- 隱藏狀態（$h_t$ − $h_{t−1}$）：前一時間步的隱藏狀態。\n",
        "\n",
        "- 遺忘門的激勵函數：決定了多少先前的記憶被丟棄。\n",
        "\n",
        "所以寫成數學式為：\n",
        "\n",
        "$f_t = \\sigma ( W_f \\cdot [h_{t-1}, x_t] + b_f )$\n",
        "\n",
        "其中：\n",
        "\n",
        "- $f_t$：遺忘門的輸出結果\n",
        "\n",
        "- $\\sigma$：激勵函數\n",
        "\n",
        "- $b_f$：遺忘門的 bais"
      ]
    },
    {
      "cell_type": "markdown",
      "metadata": {},
      "source": [
        "## 輸入門\n",
        "\n",
        "輸入門有兩個功能，一個是找到需要更新的細胞狀態，另一個是把需要更新的資訊更新到細胞狀態裡。具體而言數學式為：\n",
        "\n",
        "- $i_t = \\sigma (W_i \\cdot [h_{t-1},x_t] + b_i)$\n",
        "\n",
        "- $\\hat C_t = \\tanh (W_C \\cdot [h_{t-1},x_t] + b_C)$\n",
        "\n",
        "其中：\n",
        "\n",
        "- $i_t$︰要更新的細胞狀態\n",
        "\n",
        "- $h_{t-1}$︰前一個時間點的模型輸出\n",
        "\n",
        "- $W_i$：計算 $i_t$ 的權重\n",
        "\n",
        "- $W_C$：計算 $\\hat C_t$ 的權重\n",
        "\n",
        "- $b_i$：計算 $\\hat C_t$\n",
        "\n",
        "當遺忘門找到需要忘記的資訊$f_t$時，會將其與舊的狀態相乘，然後再與輸入門產生的 $i_t \\times \\hat C_{t-1}$相加，使細胞獲得新的資訊，完成細胞狀態的更新，數學式為：\n",
        "\n",
        "$C_t = f_t \\times C_{t-1} + i_t \\times \\hat C_t$\n",
        "\n",
        "## 輸出門\n",
        "\n",
        "輸出門會透過一個啟動函數層來確定哪部份的資訊要被輸出，接著決定模型在特定時間點 $t$ 的數學結果，具體數學式如下：\n",
        "\n",
        "- $o_t = \\sigma (W_o \\cdot [h_{t-1},x_t] + b_o)$\n",
        "\n",
        "- $h_t = o_t \\times (C_t)$"
      ]
    },
    {
      "cell_type": "markdown",
      "metadata": {},
      "source": [
        "# 實作：退位減法\n",
        "\n",
        "為了跟前面的手刻 RNN 比較，再拿退位減法當例子~~雖然很大才小用~~。再複述一次退位減法的語法結構：\n",
        "\n",
        "$$a - b = c$$\n",
        "\n",
        "其中 a、b、c都是整數，且$a>b$，**我們的目標是a、b已知的前提下，印出來的c要是正確的**，先來生成資料(a、b、c)。\n",
        "\n",
        "資料生成大致與上次相同，不同的是多了將資料轉成可供 pytorch 的 `DataLoader` 格式，並且區分訓練集跟驗證集："
      ]
    },
    {
      "cell_type": "code",
      "execution_count": 1,
      "metadata": {},
      "outputs": [],
      "source": [
        "import torch\n",
        "from torch.utils.data import Dataset, DataLoader\n",
        "import numpy as np\n",
        "import random\n",
        "# 設定隨機種子以保證可重現性\n",
        "SEED = 822\n",
        "np.random.seed(SEED)\n",
        "torch.manual_seed(SEED)\n",
        "random.seed(SEED)\n",
        "\n",
        "def requires_borrow(a, b):\n",
        "    \"\"\"檢查 a - b 是否會需要退位（borrow）\"\"\"\n",
        "    a_str = str(a)[::-1]  # 反轉為從低位開始\n",
        "    b_str = str(b)[::-1]\n",
        "\n",
        "    for i in range(len(b_str)):\n",
        "        a_digit = int(a_str[i]) if i < len(a_str) else 0\n",
        "        b_digit = int(b_str[i])\n",
        "        if a_digit < b_digit:\n",
        "            return True\n",
        "    return False\n",
        "\n",
        "\n",
        "largest_number = 255\n",
        "binary_dim = 8  # 每個數字最多 8 bits\n",
        "\n",
        "int2binary = {}\n",
        "binary = np.unpackbits(\n",
        "    np.array([range(2**binary_dim)], dtype=np.uint8).T, axis=1\n",
        ")\n",
        "for i in range(2**binary_dim):\n",
        "    int2binary[i] = binary[i]\n",
        "\n",
        "data = []\n",
        "while len(data) < 10000:\n",
        "    a_int = np.random.randint(2, largest_number)  # 最大為 254\n",
        "    b_int = np.random.randint(1, a_int)  # b < a，且最小是 1\n",
        "\n",
        "    if not requires_borrow(a_int, b_int):\n",
        "        continue\n",
        "\n",
        "    a = int2binary[a_int]\n",
        "    b = int2binary[b_int]\n",
        "    c_int = a_int - b_int\n",
        "    c = int2binary[c_int]\n",
        "\n",
        "    data.append((a, b, c))\n",
        "\n",
        "class BinarySubtractionDataset(Dataset):\n",
        "    def __init__(self, data):\n",
        "        self.samples = []\n",
        "        for a, b, c in data:\n",
        "            x = np.array(list(zip(a[::-1], b[::-1])), dtype=np.float32)  # time_steps x input_dim\n",
        "            y = c[::-1].astype(np.float32)  # 目標也反轉（低位在前）\n",
        "            self.samples.append((x, y))\n",
        "\n",
        "    def __len__(self):\n",
        "        return len(self.samples)\n",
        "\n",
        "    def __getitem__(self, idx):\n",
        "        x, y = self.samples[idx]\n",
        "        return torch.tensor(x), torch.tensor(y)\n",
        "\n",
        "# 建立資料集\n",
        "dataset = BinarySubtractionDataset(data)\n",
        "train_size = int(0.9 * len(dataset))\n",
        "test_size = len(dataset) - train_size\n",
        "\n",
        "train_set, test_set = torch.utils.data.random_split(dataset, [train_size, test_size])\n",
        "train_loader = DataLoader(train_set, batch_size=128, shuffle=True)\n",
        "test_loader = DataLoader(test_set, batch_size=128)\n"
      ]
    },
    {
      "cell_type": "markdown",
      "metadata": {},
      "source": [
        "然後來製作模型\n",
        "\n",
        "## 模型定義\n",
        "\n",
        "LSTM 模型的結構雖然複雜，但在 pytorch 裡的語法結構與普通的 NN 差不多。只是本次的課題要處理減法算出的數字的二進位版本，輸出會是由 0 與 1 組成的序列，比較特殊，因此模型結構也以此設計。先來看看一般 LSTM 模型的架構在pythorch中是什麼樣子，以下是一個是個通用範例：\n",
        "\n",
        "```python\n",
        "import torch\n",
        "import torch.nn as nn\n",
        "\n",
        "class LSTMModel(nn.Module):\n",
        "    def __init__(self, input_size=1, hidden_size=128, output_size=1):\n",
        "        super(LSTMModel, self).__init__()\n",
        "        self.hidden_size = hidden_size\n",
        "        self.lstm = nn.LSTM(input_size, hidden_size, batch_first=True)\n",
        "        self.fc = nn.Linear(hidden_size, output_size)\n",
        "    \n",
        "    def forward(self, x):\n",
        "            out, _ = self.lstm(x)    # [batch, seq_len, hidden_size]\n",
        "            out = self.fc(out)       # [batch, seq_len, output_size]\n",
        "            return out\n",
        "```\n",
        "\n",
        "可以看到與之前看到的 NN 模型類似，都需要用一個 class 包覆，也需要設定 input、output、hidden數，以及正向傳遞。\n",
        "\n",
        "由於本次課題的特殊性，本次使用的模型多了一個 `self.sigmoid = nn.Sigmoid()`，這是為了跟後續 loss function 的設定 `BCELoss()`配合。模型設定如下：\n"
      ]
    },
    {
      "cell_type": "code",
      "execution_count": 2,
      "metadata": {},
      "outputs": [],
      "source": [
        "import torch.nn as nn\n",
        "\n",
        "class LSTMSubtractor(nn.Module):\n",
        "    def __init__(self, input_size=2, hidden_size=32, output_size=1):\n",
        "        super(LSTMSubtractor, self).__init__()\n",
        "        self.lstm = nn.LSTM(input_size, hidden_size, batch_first=True)\n",
        "        self.fc = nn.Linear(hidden_size, output_size)\n",
        "        self.sigmoid = nn.Sigmoid()\n",
        "\n",
        "    def forward(self, x):\n",
        "        lstm_out, _ = self.lstm(x)  # output: (batch, seq_len, hidden)\n",
        "        out = self.fc(lstm_out)     # (batch, seq_len, 1)\n",
        "        return self.sigmoid(out)    # predict bit 0 or 1\n"
      ]
    },
    {
      "cell_type": "markdown",
      "metadata": {},
      "source": [
        "### 參數設定與模型訓練\n",
        "\n",
        " 參數設定如下："
      ]
    },
    {
      "cell_type": "markdown",
      "metadata": {},
      "source": [
        "接著來設定參數："
      ]
    },
    {
      "cell_type": "code",
      "execution_count": 3,
      "metadata": {},
      "outputs": [],
      "source": [
        "device = torch.device(\"cuda\" if torch.cuda.is_available() else \"cpu\")\n",
        "model = LSTMSubtractor().to(device)\n",
        "\n",
        "criterion = nn.BCELoss()\n",
        "optimizer = torch.optim.Adam(model.parameters(), lr=0.01)\n",
        "\n",
        "EPOCHS = 100"
      ]
    },
    {
      "cell_type": "markdown",
      "metadata": {},
      "source": [
        "這裡要解釋 `nn.BCELoss()` 是什麼東西，根據 [pytorch 官方文件](https://docs.pytorch.org/docs/stable/generated/torch.nn.BCELoss.html) ，它的數學式為：\n",
        "\n",
        "for all sample size $n$\n",
        "\n",
        "$$\n",
        "\\ell_n = - w_n \\left[ y_n \\cdot \\log(x_n) + (1 - y_n) \\cdot \\log(1 - x_n) \\right]\n",
        "$$\n",
        "\n",
        "* $x_n$：模型輸出機率（預測值），需介於 0 與 1 之間\n",
        "* $y_n$：真實值（0 或 1）\n",
        "* $w_n$：逐樣本權重（若未指定權重則預設為 1）\n",
        "\n",
        "然後 $\\ell_n$ 可以組成向量 $L = (l_1, \\dots , l_n)^T$，接著按照裡面的設定不同，輸出也會不同：\n",
        "\n",
        "$$\\ell(x, y) =\n",
        "\\begin{cases}\n",
        "\\text{mean}(L), & \\text{if reduction='mean'} \\\\\n",
        "\\text{sum}(L), & \\text{if reduction='sum'}\n",
        "\\end{cases}$$\n",
        "\n",
        "整批次資料的損失根據 `reduction` 的設定方式不同，被輸出為一個 scalar：\n",
        "\n",
        "* **`'mean'`（預設）**：\n",
        "\n",
        "  $$\n",
        "  \\text{loss} = \\frac{1}{N} \\sum_{n=1}^{N} \\ell_n\n",
        "  $$\n",
        "* **`'sum'`**：\n",
        "\n",
        "  $$\n",
        "  \\text{loss} = \\sum_{n=1}^{N} \\ell_n\n",
        "  $$\n",
        "* **`'none'`**：\n",
        "  保持逐元素損失，不做處理，輸出與輸入相同\n",
        "\n",
        "\n",
        "由於 $x_n = 0$ 或 $x_n = 1$ 時會導致 $\\log(0)$ 出現負無限大，PyTorch 在實作中將 log 的最小值限制為 $-100$，避免出現無限大或梯度爆炸的情況，確保訓練穩定。\n",
        "\n",
        "接著，我們將　epoch　(模型掃過資料的次數)設為 100，對訓練集訓練：\n"
      ]
    },
    {
      "cell_type": "code",
      "execution_count": 4,
      "metadata": {},
      "outputs": [
        {
          "name": "stdout",
          "output_type": "stream",
          "text": [
            "Epoch 100/100, Loss: 0.0002\r"
          ]
        }
      ],
      "source": [
        "\n",
        "\n",
        "for epoch in range(EPOCHS):\n",
        "    model.train()\n",
        "    total_loss = 0\n",
        "    for x_batch, y_batch in train_loader:\n",
        "        x_batch = x_batch.to(device)\n",
        "        y_batch = y_batch.to(device).unsqueeze(-1)  # (batch, 8, 1)\n",
        "\n",
        "        optimizer.zero_grad()\n",
        "        output = model(x_batch)\n",
        "        loss = criterion(output, y_batch)\n",
        "        loss.backward()\n",
        "        optimizer.step()\n",
        "        total_loss += loss.item()\n",
        "\n",
        "    print(f\"Epoch {epoch+1}/{EPOCHS}, Loss: {total_loss:.4f}\", end='\\r')\n"
      ]
    },
    {
      "cell_type": "markdown",
      "metadata": {},
      "source": [
        "定義預測函數、進行預測後，再來查看在測試集的效果："
      ]
    },
    {
      "cell_type": "code",
      "execution_count": 5,
      "metadata": {},
      "outputs": [],
      "source": [
        "def binary2int(binary_array):\n",
        "    \"\"\"將二進位 ndarray 轉換為十進位整數\"\"\"\n",
        "    return int(\"\".join(str(int(b)) for b in binary_array), 2)\n",
        "\n",
        "\n",
        "def predict(model, a_int, b_int):\n",
        "    model.eval()\n",
        "    a = int2binary[a_int]\n",
        "    b = int2binary[b_int]\n",
        "    x = np.array(list(zip(a[::-1], b[::-1])), dtype=np.float32)\n",
        "    x_tensor = torch.tensor(x).unsqueeze(0).to(device)  # (1, 8, 2)\n",
        "\n",
        "    with torch.no_grad():\n",
        "        pred = model(x_tensor).squeeze().cpu().numpy()\n",
        "\n",
        "    pred_bits = np.round(pred).astype(int)[::-1]  # 反轉回原本順序\n",
        "    pred_val = sum([bit * (2 ** i) for i, bit in enumerate(pred_bits[::-1])])\n",
        "    return pred_val, pred_bits\n"
      ]
    },
    {
      "cell_type": "markdown",
      "metadata": {},
      "source": [
        "## 結果"
      ]
    },
    {
      "cell_type": "code",
      "execution_count": 6,
      "metadata": {},
      "outputs": [
        {
          "name": "stdout",
          "output_type": "stream",
          "text": [
            "True value:　62 ; [0 0 0 0 1 1 1 1]\n",
            "Predicted value: 62 ; [0 0 1 1 1 1 1 0]\n",
            "Predicted formula: 123 - 61 = 62\n",
            "---------------\n",
            "True value:　24 ; [0 0 0 0 1 1 1 1]\n",
            "Predicted value: 24 ; [0 0 0 1 1 0 0 0]\n",
            "Predicted formula: 118 - 94 = 24\n",
            "---------------\n",
            "True value:　116 ; [0 0 0 0 1 1 1 1]\n",
            "Predicted value: 116 ; [0 1 1 1 0 1 0 0]\n",
            "Predicted formula: 250 - 134 = 116\n",
            "---------------\n",
            "True value:　137 ; [0 0 0 0 1 1 1 1]\n",
            "Predicted value: 137 ; [1 0 0 0 1 0 0 1]\n",
            "Predicted formula: 204 - 67 = 137\n",
            "---------------\n",
            "True value:　185 ; [0 0 0 0 1 1 1 1]\n",
            "Predicted value: 185 ; [1 0 1 1 1 0 0 1]\n",
            "Predicted formula: 245 - 60 = 185\n",
            "---------------\n"
          ]
        }
      ],
      "source": [
        "def bits_to_int(bit_tensor):\n",
        "    \"\"\"將 bit tensor 轉為十進位整數（從低位開始）\"\"\"\n",
        "    bits = bit_tensor.int().numpy().tolist()\n",
        "    return int(\"\".join(str(b) for b in bits[::-1]), 2)  # 注意反轉\n",
        "\n",
        "\n",
        "\n",
        "Error_list = []\n",
        "\n",
        "for j in range(len(test_set)):\n",
        "    # 讀一筆\n",
        "    x, y = test_set[j]\n",
        "\n",
        "    # 拆開 a 和 b 的 bits（注意 shape 是 [seq_len, 2]）\n",
        "    a_bits = x[:, 0]\n",
        "    b_bits = x[:, 1]\n",
        "    c_bits = y\n",
        "    \n",
        "\n",
        "    # 還原整數\n",
        "    a_int = bits_to_int(a_bits)\n",
        "    b_int = bits_to_int(b_bits)\n",
        "    c_int = bits_to_int(c_bits)  \n",
        "    d = predict(model, a_int, b_int)\n",
        "    \n",
        "    # 紀錄誤差\n",
        "    error = np.abs(c_int - d[0]) \n",
        "    Error_list.append(error)     \n",
        "    # 取其中的五筆觀察\n",
        "    if j % 200 == 0: \n",
        "        # 顯示\n",
        "        print(f\"True value:　{c_int} ; {c}\")\n",
        "        print(f\"Predicted value: {d[0]} ; {d[1]}\")\n",
        "        print(f\"Predicted formula: {a_int} - {b_int} = {d[0]}\")\n",
        "        print(\"---------------\")\n"
      ]
    },
    {
      "cell_type": "markdown",
      "metadata": {},
      "source": [
        "把誤差化成圖："
      ]
    },
    {
      "cell_type": "code",
      "execution_count": 7,
      "metadata": {},
      "outputs": [
        {
          "data": {
            "image/png": "[encoded data removed]",
            "text/plain": [
              "<Figure size 1000x400 with 1 Axes>"
            ]
          },
          "metadata": {},
          "output_type": "display_data"
        }
      ],
      "source": [
        "import matplotlib.pyplot as plt \n",
        "plt.figure(figsize=(10, 4))\n",
        "plt.plot( Error_list, label=\"Absolute Error\")\n",
        "plt.xlabel(\"Sample Index\")\n",
        "plt.ylabel(\"Error Value\")\n",
        "plt.title(\"Prediction Error per Test Sample\")\n",
        "plt.grid(True)\n",
        "plt.legend()\n",
        "plt.show()\n"
      ]
    },
    {
      "cell_type": "markdown",
      "metadata": {},
      "source": [
        "在測試集的表現非常好，順便來介紹 & 計算常用模型評估指標，RMSE。RMSE（Root Mean Squared Error）為 MSE 的平方根，是常用的模型誤差評估指標。\n",
        "\n",
        "$$\n",
        "\\text{RMSE} = \\sqrt{ \\frac{1}{n} \\sum_{i=1}^{n} (\\hat{y}_i - y_i)^2 } = \\sqrt{\\text{MSE}}\n",
        "$$\n"
      ]
    },
    {
      "cell_type": "code",
      "execution_count": 8,
      "metadata": {},
      "outputs": [
        {
          "name": "stdout",
          "output_type": "stream",
          "text": [
            "RMSE: 0.0000\n"
          ]
        }
      ],
      "source": [
        "import numpy as np\n",
        "\n",
        "true_vals = []\n",
        "pred_vals = []\n",
        "\n",
        "for x, y in test_set:\n",
        "    # 還原 a、b 的 bit 並轉為十進位\n",
        "    a_int = bits_to_int(x[:, 0])\n",
        "    b_int = bits_to_int(x[:, 1])\n",
        "    true_val = bits_to_int(y)\n",
        "\n",
        "    pred_val, _ = predict(model, a_int, b_int)\n",
        "\n",
        "    true_vals.append(true_val)\n",
        "    pred_vals.append(pred_val)\n",
        "\n",
        "# 轉為 numpy 陣列\n",
        "true_vals = np.array(true_vals)\n",
        "pred_vals = np.array(pred_vals)\n",
        "errors = np.abs(true_vals - pred_vals)\n",
        "# 計算 RMSE\n",
        "rmse = np.sqrt(np.mean((true_vals - pred_vals) ** 2))\n",
        "print(f\"RMSE: {rmse:.4f}\")\n"
      ]
    },
    {
      "cell_type": "code",
      "execution_count": 9,
      "metadata": {},
      "outputs": [
        {
          "data": {
            "image/png": "[encoded data removed]",
            "text/plain": [
              "<Figure size 1000x400 with 1 Axes>"
            ]
          },
          "metadata": {},
          "output_type": "display_data"
        }
      ],
      "source": [
        "import matplotlib.pyplot as plt \n",
        "plt.figure(figsize=(10, 4))\n",
        "x = [ x for x in range(501, 1001)]\n",
        "plt.plot( errors, label=\"Absolute Error\")\n",
        "plt.xlabel(\"Sample Index\")\n",
        "plt.ylabel(\"Error Value\")\n",
        "plt.title(\"Prediction Error per Test Sample\")\n",
        "plt.grid(True)\n",
        "plt.legend()\n",
        "plt.show()\n"
      ]
    },
    {
      "cell_type": "markdown",
      "metadata": {},
      "source": [
        "這裡因為誤差是 0 RMSE 想當然爾也是0囉。\n",
        "\n",
        "# 補充：GRU 模型\n",
        "\n",
        "GRU 模型與 LSTM 功能幾乎一樣，差異在**GRU將遺忘門和輸入門簡化為單一一個門，同時將細胞狀態和隱藏狀態結合為一個狀態**，大幅簡化原先 LSTM 模型的設計。 \n",
        "\n",
        "## GRU 延伸閱讀\n",
        "\n",
        "- [LSTM與GRU比較論文摘要](https://tengyuanchang.medium.com/%E6%AF%94%E8%BC%83%E9%95%B7%E7%9F%AD%E6%9C%9F%E8%A8%98%E6%86%B6%E6%A8%A1%E5%9E%8B-lstm-%E8%88%87%E6%94%B9%E8%89%AF%E5%BE%8C%E7%9A%84%E9%81%9E%E6%AD%B8%E7%A5%9E%E7%B6%93%E7%B6%B2%E8%B7%AF%E6%A8%A1%E5%9E%8B-gru-813dec22ec6d)\n"
      ]
    }
  ],
  "metadata": {
    "kernelspec": {
      "display_name": "new_env",
      "language": "python",
      "name": "python3"
    },
    "language_info": {
      "codemirror_mode": {
        "name": "ipython",
        "version": 3
      },
      "file_extension": ".py",
      "mimetype": "text/x-python",
      "name": "python",
      "nbconvert_exporter": "python",
      "pygments_lexer": "ipython3",
      "version": "3.12.5"
    }
  },
  "nbformat": 4,
  "nbformat_minor": 4
}
